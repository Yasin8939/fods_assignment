{
 "cells": [
  {
   "cell_type": "code",
   "execution_count": 25,
   "metadata": {},
   "outputs": [],
   "source": [
    "\n",
    "import pandas as pd "
   ]
  },
  {
   "cell_type": "code",
   "execution_count": 26,
   "metadata": {},
   "outputs": [],
   "source": [
    "df = pd.read_csv(\"apple_quality.csv\")"
   ]
  },
  {
   "cell_type": "code",
   "execution_count": 27,
   "metadata": {},
   "outputs": [
    {
     "name": "stdout",
     "output_type": "stream",
     "text": [
      "Index(['A_id', 'Size', 'Weight', 'Sweetness', 'Crunchiness', 'Juiciness',\n",
      "       'Ripeness', 'Acidity', 'Quality'],\n",
      "      dtype='object')\n"
     ]
    }
   ],
   "source": [
    "features= df.columns\n",
    "print(features)"
   ]
  },
  {
   "cell_type": "code",
   "execution_count": 28,
   "metadata": {},
   "outputs": [
    {
     "name": "stdout",
     "output_type": "stream",
     "text": [
      "A_id           float64\n",
      "Size           float64\n",
      "Weight         float64\n",
      "Sweetness      float64\n",
      "Crunchiness    float64\n",
      "Juiciness      float64\n",
      "Ripeness       float64\n",
      "Acidity         object\n",
      "Quality         object\n",
      "dtype: object\n"
     ]
    }
   ],
   "source": [
    "data_types = df.dtypes\n",
    "print(data_types)"
   ]
  },
  {
   "cell_type": "code",
   "execution_count": 29,
   "metadata": {},
   "outputs": [
    {
     "name": "stdout",
     "output_type": "stream",
     "text": [
      "              A_id         Size       Weight    Sweetness  Crunchiness  \\\n",
      "count  4000.000000  4000.000000  4000.000000  4000.000000  4000.000000   \n",
      "mean   1999.500000    -0.503015    -0.989547    -0.470479     0.985478   \n",
      "std    1154.844867     1.928059     1.602507     1.943441     1.402757   \n",
      "min       0.000000    -7.151703    -7.149848    -6.894485    -6.055058   \n",
      "25%     999.750000    -1.816765    -2.011770    -1.738425     0.062764   \n",
      "50%    1999.500000    -0.513703    -0.984736    -0.504758     0.998249   \n",
      "75%    2999.250000     0.805526     0.030976     0.801922     1.894234   \n",
      "max    3999.000000     6.406367     5.790714     6.374916     7.619852   \n",
      "\n",
      "         Juiciness     Ripeness  \n",
      "count  4000.000000  4000.000000  \n",
      "mean      0.512118     0.498277  \n",
      "std       1.930286     1.874427  \n",
      "min      -5.961897    -5.864599  \n",
      "25%      -0.801286    -0.771677  \n",
      "50%       0.534219     0.503445  \n",
      "75%       1.835976     1.766212  \n",
      "max       7.364403     7.237837  \n"
     ]
    }
   ],
   "source": [
    "summary = df.describe()\n",
    "print(summary)"
   ]
  },
  {
   "cell_type": "code",
   "execution_count": 30,
   "metadata": {},
   "outputs": [
    {
     "name": "stdout",
     "output_type": "stream",
     "text": [
      "This dataset contains information about various attributes of a set of fruits, providing insights into their characteristics. The dataset includes details such as fruit ID, size, weight, sweetness, crunchiness, juiciness, ripeness, acidity, and quality.\n",
      "A_id: Unique identifier for each fruit\n",
      "Size: Size of the fruit\n",
      "Weight: Weight of the fruit\n",
      "Sweetness: Degree of sweetness of the fruit\n",
      "Crunchiness: Texture indicating the crunchiness of the fruit\n",
      "Juiciness: Level of juiciness of the fruit\n",
      "Ripeness: Stage of ripeness of the fruit\n",
      "Acidity: Acidity level of the fruit\n",
      "Quality: Overall quality of the fruit\n"
     ]
    }
   ],
   "source": [
    "print(\"This dataset contains information about various attributes of a set of fruits, providing insights into their characteristics. The dataset includes details such as fruit ID, size, weight, sweetness, crunchiness, juiciness, ripeness, acidity, and quality.\")\n",
    "print(\"A_id: Unique identifier for each fruit\")\n",
    "print(\"Size: Size of the fruit\")\n",
    "print(\"Weight: Weight of the fruit\")\n",
    "print(\"Sweetness: Degree of sweetness of the fruit\")\n",
    "print(\"Crunchiness: Texture indicating the crunchiness of the fruit\")\n",
    "print(\"Juiciness: Level of juiciness of the fruit\")\n",
    "print(\"Ripeness: Stage of ripeness of the fruit\")\n",
    "print(\"Acidity: Acidity level of the fruit\")\n",
    "print(\"Quality: Overall quality of the fruit\")"
   ]
  }
 ],
 "metadata": {
  "kernelspec": {
   "display_name": "Python 3",
   "language": "python",
   "name": "python3"
  },
  "language_info": {
   "codemirror_mode": {
    "name": "ipython",
    "version": 3
   },
   "file_extension": ".py",
   "mimetype": "text/x-python",
   "name": "python",
   "nbconvert_exporter": "python",
   "pygments_lexer": "ipython3",
   "version": "3.12.2"
  },
  "orig_nbformat": 4
 },
 "nbformat": 4,
 "nbformat_minor": 2
}
